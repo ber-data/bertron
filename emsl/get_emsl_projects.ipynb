{
 "cells": [
  {
   "cell_type": "code",
   "execution_count": 1,
   "metadata": {},
   "outputs": [],
   "source": [
    "import polars as pl\n",
    "import numpy as np\n",
    "import requests"
   ]
  },
  {
   "cell_type": "code",
   "execution_count": 2,
   "metadata": {},
   "outputs": [],
   "source": [
    "project_df = pl.from_records(requests.get('https://api.emsl.pnl.gov/nexus/elasticsearch/projects/').json())"
   ]
  },
  {
   "cell_type": "code",
   "execution_count": 7,
   "metadata": {},
   "outputs": [
    {
     "data": {
      "text/plain": [
       "['uuid',\n",
       " 'id',\n",
       " 'status',\n",
       " 'title',\n",
       " 'abstract',\n",
       " 'pis',\n",
       " 'institution_names',\n",
       " 'active_members',\n",
       " 'science_areas',\n",
       " 'project_type',\n",
       " 'award_doi',\n",
       " 'accepted_date',\n",
       " 'started_date',\n",
       " 'closed_date',\n",
       " 'estimated_end_date']"
      ]
     },
     "execution_count": 7,
     "metadata": {},
     "output_type": "execute_result"
    }
   ],
   "source": [
    "project_df.columns"
   ]
  },
  {
   "cell_type": "code",
   "execution_count": 16,
   "metadata": {},
   "outputs": [],
   "source": [
    "project_trimmed_df = project_df[['active_members', 'started_date', 'title', 'award_doi', 'id', 'uuid', 'science_areas', 'project_type']]"
   ]
  },
  {
   "cell_type": "code",
   "execution_count": null,
   "metadata": {},
   "outputs": [],
   "source": [
    "project_trimmed_df = project_trimmed_df.with_columns((\"https://sc-data.emsl.pnnl.gov/?projectId=\" + project_trimmed_df['id']).alias('url'))"
   ]
  },
  {
   "cell_type": "code",
   "execution_count": null,
   "metadata": {},
   "outputs": [],
   "source": [
    "project_trimmed_df = project_trimmed_df.with_columns"
   ]
  },
  {
   "cell_type": "code",
   "execution_count": 17,
   "metadata": {},
   "outputs": [],
   "source": [
    "project_trimmed_df = project_trimmed_df.rename({'title': 'name', 'started_date': 'created_date', 'uuid': 'proposal_identifier', 'award_doi': 'citation_info', 'active_members': 'associated_researchers'})"
   ]
  },
  {
   "cell_type": "code",
   "execution_count": null,
   "metadata": {},
   "outputs": [],
   "source": []
  },
  {
   "cell_type": "code",
   "execution_count": 9,
   "metadata": {},
   "outputs": [],
   "source": [
    "project_trimmed_df.write_json(\"emsl_projects.json\")"
   ]
  },
  {
   "cell_type": "code",
   "execution_count": 19,
   "metadata": {},
   "outputs": [],
   "source": [
    "project_dicts = project_trimmed_df.to_dicts()"
   ]
  },
  {
   "cell_type": "code",
   "execution_count": null,
   "metadata": {},
   "outputs": [
    {
     "data": {
      "text/plain": [
       "{'associated_researchers': [{'id': 17840,\n",
       "   'name': 'Nikolla Qafoku',\n",
       "   'orcid': '0000-0002-3258-5379',\n",
       "   'institution': 'Pacific Northwest National Laboratory',\n",
       "   'project_role': 'co_pi'},\n",
       "  {'id': 19140,\n",
       "   'name': 'David Dixon',\n",
       "   'orcid': '0000-0002-9492-0056',\n",
       "   'institution': 'University of Alabama',\n",
       "   'project_role': 'co_pi'},\n",
       "  {'id': 33140,\n",
       "   'name': 'John Loring',\n",
       "   'orcid': '0000-0001-6106-3812',\n",
       "   'institution': 'Pacific Northwest National Laboratory',\n",
       "   'project_role': 'principal_investigator'},\n",
       "  {'id': 35324,\n",
       "   'name': 'Geoffrey Bowers',\n",
       "   'orcid': '0000-0003-4876-9305',\n",
       "   'institution': \"St. Mary's College of Maryland\",\n",
       "   'project_role': 'co_pi'},\n",
       "  {'id': 40117,\n",
       "   'name': 'Sebastien Kerisit',\n",
       "   'orcid': '0000-0002-7470-9181',\n",
       "   'institution': 'Pacific Northwest National Laboratory',\n",
       "   'project_role': 'co_pi'},\n",
       "  {'id': 47152,\n",
       "   'name': 'Libor Kovarik',\n",
       "   'orcid': '0000-0002-2418-6925',\n",
       "   'institution': 'Pacific Northwest National Laboratory',\n",
       "   'project_role': 'member'},\n",
       "  {'id': 47630,\n",
       "   'name': 'Maria Sushko',\n",
       "   'orcid': '0000-0002-7229-7072',\n",
       "   'institution': 'Pacific Northwest National Laboratory',\n",
       "   'project_role': 'co_pi'},\n",
       "  {'id': 48230,\n",
       "   'name': 'Duo Song',\n",
       "   'orcid': '0000-0002-5136-7959',\n",
       "   'institution': 'Pacific Northwest National Laboratory',\n",
       "   'project_role': 'member'}],\n",
       " 'created_date': '2021-10-01',\n",
       " 'name': 'Influence of Adsorbed Organic Acids on Soil Mineral Wettability',\n",
       " 'citation_info': '10.46936/lser.proj.2021.51896/60000359',\n",
       " 'id': '51896',\n",
       " 'proposal_identifier': '0001e85c-b231-5ab0-8b0b-0cae087a5129',\n",
       " 'science_areas': ['Environmental Transformations and Interactions'],\n",
       " 'project_type': 'Large-Scale EMSL Research',\n",
       " 'url': 'https://sc-data.emsl.pnnl.gov/?projectId=51896'}"
      ]
     },
     "execution_count": 20,
     "metadata": {},
     "output_type": "execute_result"
    }
   ],
   "source": [
    "# project_dicts[0]\n",
    "reformatted_projects = []\n",
    "for project in project_dicts:\n",
    "    reformatted_project = project\n",
    "    reformatted_project['associated_researchers'] = [arreformatted_project['associated_researchers']]"
   ]
  },
  {
   "cell_type": "code",
   "execution_count": null,
   "metadata": {},
   "outputs": [],
   "source": []
  }
 ],
 "metadata": {
  "kernelspec": {
   "display_name": ".venv",
   "language": "python",
   "name": "python3"
  },
  "language_info": {
   "codemirror_mode": {
    "name": "ipython",
    "version": 3
   },
   "file_extension": ".py",
   "mimetype": "text/x-python",
   "name": "python",
   "nbconvert_exporter": "python",
   "pygments_lexer": "ipython3",
   "version": "3.13.0"
  }
 },
 "nbformat": 4,
 "nbformat_minor": 2
}

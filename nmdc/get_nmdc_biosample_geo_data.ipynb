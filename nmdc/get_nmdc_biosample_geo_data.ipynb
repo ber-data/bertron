{
 "cells": [
  {
   "metadata": {},
   "cell_type": "markdown",
   "source": [
    "# Get NMDC Biosample geolocation data\n",
    "\n",
    "You can use this notebook to generate a list of the `id` and geographic origin coordinates of each biosample in the NMDC database."
   ],
   "id": "d54028d3f8e33bc5"
  },
  {
   "metadata": {},
   "cell_type": "markdown",
   "source": "#### Install and import dependencies",
   "id": "d49f383a69bca91"
  },
  {
   "metadata": {},
   "cell_type": "code",
   "source": "%pip install requests",
   "id": "8d14c681ceb00c05",
   "outputs": [],
   "execution_count": null
  },
  {
   "metadata": {},
   "cell_type": "code",
   "source": [
    "import csv\n",
    "\n",
    "import requests"
   ],
   "id": "91d33e1b394611dd",
   "outputs": [],
   "execution_count": null
  },
  {
   "metadata": {},
   "cell_type": "markdown",
   "source": [
    "#### Fetch the `id` and `lat_lon` of each biosample\n",
    "\n",
    "In this cell, we fetch the `id` value and the `lat_lon` value (i.e., the [geographical origin coordinates](https://microbiomedata.github.io/nmdc-schema/lat_lon/)) of each biosample in the NMDC database.\n",
    "\n",
    "The NMDC API endpoint we use here only returns up to 2000 biosamples per request. Since the NMDC database contains more than 2000 biosamples, we submit multiple requests to the NMDC API endpoint."
   ],
   "id": "4e88bb65c2b50ba2"
  },
  {
   "metadata": {
    "ExecuteTime": {
     "end_time": "2025-02-26T03:09:13.467913Z",
     "start_time": "2025-02-26T03:09:12.596487Z"
    }
   },
   "cell_type": "code",
   "source": [
    "lat_lons_by_biosample_id = dict()\n",
    "\n",
    "page_num = 1\n",
    "while True:\n",
    "    print(f\"Fetching page number {page_num}\", end=\": \")\n",
    "    request_params = dict(per_page=2000, fields=\"lat_lon\", page=page_num)\n",
    "    response = requests.get(\"https://api.microbiomedata.org/biosamples\", params=request_params)\n",
    "\n",
    "    # Collect the `id` and `lat_lon` value of each biosample in the response.\n",
    "    # Note: Once we have it locally, we can explore it without Internet access.\n",
    "    response_payload = response.json()\n",
    "    biosamples = response_payload[\"results\"]\n",
    "    print(f\"{len(biosamples)} biosamples\")\n",
    "    for biosample in biosamples:\n",
    "        biosample_id = biosample[\"id\"]\n",
    "        biosample_lat_lon = biosample[\"lat_lon\"]\n",
    "        lat_lons_by_biosample_id[biosample_id] = biosample_lat_lon\n",
    "\n",
    "    # If we haven't fetched all the biosamples yet, prepare to fetch the next batch.\n",
    "    # Note: In the NMDC database, each biosample has a unique `id` value.\n",
    "    num_biosamples_available = response_payload[\"meta\"][\"count\"]\n",
    "    if len(lat_lons_by_biosample_id) < num_biosamples_available:\n",
    "        page_num += 1\n",
    "    else:\n",
    "        break\n",
    "\n",
    "print(f\"Fetched `id` and `lat_lon` values for {len(lat_lons_by_biosample_id)} biosamples\")"
   ],
   "id": "9307b4a017df56ea",
   "outputs": [
    {
     "name": "stdout",
     "output_type": "stream",
     "text": [
      "Fetching page number 1: 2000 biosamples\n",
      "Fetching page number 2: 2000 biosamples\n",
      "Fetching page number 3: 2000 biosamples\n",
      "Fetching page number 4: 2000 biosamples\n",
      "Fetching page number 5: 1028 biosamples\n",
      "Fetched `id` and `lat_lon` values for 9028 biosamples\n"
     ]
    }
   ],
   "execution_count": 3
  },
  {
   "metadata": {},
   "cell_type": "markdown",
   "source": [
    "#### Dump the `id` and geographical origin coordinates to a CSV file\n",
    "\n",
    "In this cell, we dump the fetched data to a CSV file. The CSV file will have the following columns:\n",
    "- `biosample_id`\n",
    "- `latitude`\n",
    "- `longitude`"
   ],
   "id": "b3bbefddfce9b53e"
  },
  {
   "metadata": {
    "ExecuteTime": {
     "end_time": "2025-02-26T03:09:16.663491Z",
     "start_time": "2025-02-26T03:09:16.621290Z"
    }
   },
   "cell_type": "code",
   "source": [
    "OUTFILE_PATH = \"./lat_lons_by_biosample_id.csv\"\n",
    "\n",
    "with open(OUTFILE_PATH, \"w\") as file:\n",
    "    fieldnames = [\"biosample_id\", \"latitude\", \"longitude\"]\n",
    "    writer = csv.DictWriter(file, fieldnames=fieldnames)\n",
    "    writer.writeheader()\n",
    "    for biosample_id, lat_lon_value in lat_lons_by_biosample_id.items():\n",
    "        latitude = lat_lon_value[\"latitude\"]\n",
    "        longitude = lat_lon_value[\"longitude\"]\n",
    "        row = dict(biosample_id=biosample_id, latitude=latitude, longitude=longitude)\n",
    "        writer.writerow(row)\n",
    "\n",
    "    print(f\"Dumped data to: {OUTFILE_PATH}\")"
   ],
   "id": "989e40f13d35e49",
   "outputs": [
    {
     "name": "stdout",
     "output_type": "stream",
     "text": [
      "Dumped data to: ./lat_lons_by_biosample_id.csv\n"
     ]
    }
   ],
   "execution_count": 4
  },
  {
   "metadata": {},
   "cell_type": "markdown",
   "source": [
    "#### (Example) Fetch all metadata about a biosample\n",
    "\n",
    "Once you have the `id` of a biosample, you can use the NMDC API to get more metadata about that biosample.\n",
    "\n",
    "In this cell, we fetch metadata about an arbitrary biosample, given its `id`."
   ],
   "id": "9367806f7f4a83d7"
  },
  {
   "metadata": {
    "ExecuteTime": {
     "end_time": "2025-02-26T03:09:20.214286Z",
     "start_time": "2025-02-26T03:09:20.095196Z"
    }
   },
   "cell_type": "code",
   "source": [
    "biosample_id = \"nmdc:bsm-13-amrnys72\"  # this is the `id` of an arbitrary biosample\n",
    "\n",
    "response = requests.get(f\"https://api.microbiomedata.org/biosamples/{biosample_id}\")\n",
    "biosample = response.json()\n",
    "biosample"
   ],
   "id": "59aeb951bbc6b54a",
   "outputs": [
    {
     "data": {
      "text/plain": [
       "{'id': 'nmdc:bsm-13-amrnys72',\n",
       " 'name': 'Sand microcosm microbial communities from a hyporheic zone in Columbia River, Washington, USA - GW-RW T4_25-Nov-14',\n",
       " 'description': 'Sterilized sand packs were incubated back in the ground and collected at time point T4.',\n",
       " 'env_broad_scale': {'has_raw_value': 'ENVO:01000253',\n",
       "  'term': {'id': 'ENVO:01000253', 'type': 'nmdc:OntologyClass'},\n",
       "  'type': 'nmdc:ControlledIdentifiedTermValue'},\n",
       " 'env_local_scale': {'has_raw_value': 'ENVO:01000621',\n",
       "  'term': {'id': 'ENVO:01000621', 'type': 'nmdc:OntologyClass'},\n",
       "  'type': 'nmdc:ControlledIdentifiedTermValue'},\n",
       " 'env_medium': {'has_raw_value': 'ENVO:01000017',\n",
       "  'term': {'id': 'ENVO:01000017', 'type': 'nmdc:OntologyClass'},\n",
       "  'type': 'nmdc:ControlledIdentifiedTermValue'},\n",
       " 'type': 'nmdc:Biosample',\n",
       " 'collection_date': {'has_raw_value': '2014-11-25',\n",
       "  'type': 'nmdc:TimestampValue'},\n",
       " 'depth': {'has_raw_value': '0.5',\n",
       "  'has_numeric_value': 0.5,\n",
       "  'has_unit': 'm',\n",
       "  'type': 'nmdc:QuantityValue'},\n",
       " 'geo_loc_name': {'has_raw_value': 'USA: Columbia River, Washington',\n",
       "  'type': 'nmdc:TextValue'},\n",
       " 'lat_lon': {'has_raw_value': '46.37228379 -119.2717467',\n",
       "  'latitude': 46.37228379,\n",
       "  'longitude': -119.2717467,\n",
       "  'type': 'nmdc:GeolocationValue'},\n",
       " 'ecosystem': 'Engineered',\n",
       " 'ecosystem_category': 'Artificial ecosystem',\n",
       " 'ecosystem_type': 'Sand microcosm',\n",
       " 'ecosystem_subtype': 'Unclassified',\n",
       " 'specific_ecosystem': 'Unclassified',\n",
       " 'add_date': '2015-05-28',\n",
       " 'community': 'microbial communities',\n",
       " 'habitat': 'sand microcosm',\n",
       " 'location': 'groundwater-surface water interaction zone in Washington, USA',\n",
       " 'mod_date': '2021-06-17',\n",
       " 'ncbi_taxonomy_name': 'sediment metagenome',\n",
       " 'sample_collection_site': 'sand microcosm',\n",
       " 'alternative_identifiers': ['img.taxon:3300042754'],\n",
       " 'insdc_biosample_identifiers': ['biosample:SAMN06343877'],\n",
       " 'samp_name': 'GW-RW T4_25-Nov-14',\n",
       " 'gold_biosample_identifiers': ['gold:Gb0115231'],\n",
       " 'associated_studies': ['nmdc:sty-11-aygzgv51']}"
      ]
     },
     "execution_count": 5,
     "metadata": {},
     "output_type": "execute_result"
    }
   ],
   "execution_count": 5
  }
 ],
 "metadata": {
  "kernelspec": {
   "name": "python3",
   "language": "python",
   "display_name": "Python 3 (ipykernel)"
  }
 },
 "nbformat": 4,
 "nbformat_minor": 5
}
